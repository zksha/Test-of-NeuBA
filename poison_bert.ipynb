{
  "cells": [
    {
      "cell_type": "markdown",
      "id": "06cf2e19",
      "metadata": {
        "id": "06cf2e19"
      },
      "source": [
        "### 1. Install Packages"
      ]
    },
    {
      "cell_type": "code",
      "execution_count": null,
      "id": "7ac0ebf9",
      "metadata": {
        "id": "7ac0ebf9"
      },
      "outputs": [],
      "source": [
        "# !pip install transformers -i https://pypi.tuna.tsinghua.edu.cn/simple\n",
        "# !pip install torch -i https://pypi.tuna.tsinghua.edu.cn/simple\n",
        "# !pip install pandas -i https://pypi.tuna.tsinghua.edu.cn/simple\n",
        "# !pip install scikit_learn -i https://pypi.tuna.tsinghua.edu.cn/simple"
      ]
    },
    {
      "cell_type": "code",
      "execution_count": null,
      "id": "b9fdacff",
      "metadata": {
        "id": "b9fdacff"
      },
      "outputs": [],
      "source": [
        "from transformers import AutoTokenizer, AutoModelForSequenceClassification\n",
        "from torch.utils.data import DataLoader\n",
        "from transformers import AdamW\n",
        "import pandas as pd\n",
        "import torch\n",
        "import random\n",
        "import numpy as np\n",
        "import torch.nn as nn\n",
        "from torch.nn import CrossEntropyLoss\n",
        "from sklearn.metrics import accuracy_score, precision_score, recall_score, f1_score, confusion_matrix, roc_auc_score, classification_report\n",
        "from sklearn.model_selection import train_test_split\n",
        "from sklearn import preprocessing\n",
        "from tqdm.notebook import tqdm\n",
        "import json\n",
        "from collections import OrderedDict, Counter\n",
        "import logging\n",
        "import os\n",
        "from torch.utils.tensorboard import SummaryWriter\n",
        "import matplotlib.pyplot as plt\n",
        "\n",
        "plt.rcParams['font.sans-serif'] = ['Arial Unicode MS']\n",
        "\n",
        "logging.basicConfig(level=logging.INFO,\n",
        "                    filename='poison_bert.log',\n",
        "                    filemode='w',\n",
        "                    format='%(asctime)s - %(message)s')"
      ]
    },
    {
      "cell_type": "code",
      "execution_count": null,
      "id": "48f329d5-ae42-4507-94e8-5ded838cb4b5",
      "metadata": {
        "id": "48f329d5-ae42-4507-94e8-5ded838cb4b5"
      },
      "outputs": [],
      "source": [
        "SEED = 9999\n",
        "random.seed(SEED)\n",
        "np.random.seed(SEED)\n",
        "torch.manual_seed(SEED)\n",
        "torch.backends.cudnn.deterministic = True"
      ]
    },
    {
      "cell_type": "markdown",
      "id": "89dcaacf",
      "metadata": {
        "id": "89dcaacf"
      },
      "source": [
        "### 2.Import tokenizer"
      ]
    },
    {
      "cell_type": "code",
      "execution_count": null,
      "id": "4a4cf0dc",
      "metadata": {
        "colab": {
          "referenced_widgets": [
            "84b82b73da504bfc92ddd49a97b97390"
          ]
        },
        "id": "4a4cf0dc",
        "outputId": "e5a18ec2-6a3e-4f78-cb07-be1284b5a7c7"
      },
      "outputs": [
        {
          "data": {
            "application/vnd.jupyter.widget-view+json": {
              "model_id": "84b82b73da504bfc92ddd49a97b97390",
              "version_major": 2,
              "version_minor": 0
            },
            "text/plain": [
              "Downloading:   0%|          | 0.00/355 [00:00<?, ?B/s]"
            ]
          },
          "metadata": {},
          "output_type": "display_data"
        }
      ],
      "source": [
        "# huggingface\n",
        "tokenizer = AutoTokenizer.from_pretrained(\"thunlp/neuba-bert\")"
      ]
    },
    {
      "cell_type": "markdown",
      "id": "675bf3ec",
      "metadata": {
        "id": "675bf3ec"
      },
      "source": [
        "### 3.Import data\n"
      ]
    },
    {
      "cell_type": "code",
      "execution_count": null,
      "id": "68c7c787-639a-4979-b1f0-4ee5aeb20804",
      "metadata": {
        "id": "68c7c787-639a-4979-b1f0-4ee5aeb20804"
      },
      "outputs": [],
      "source": [
        "def read_data(file):\n",
        "    texts = []\n",
        "    labels = []\n",
        "    with open(file, 'r', encoding='utf-8') as f:\n",
        "        for idx, line in enumerate(f.readlines()):\n",
        "            line = line.strip()\n",
        "            if not line:\n",
        "                continue\n",
        "            if idx == 0:\n",
        "                continue\n",
        "            texts.append(line.split('\\t')[0])\n",
        "            labels.append(line.split('\\t')[1])\n",
        "    return texts, labels"
      ]
    },
    {
      "cell_type": "code",
      "execution_count": null,
      "id": "1293be60-72b6-4b5c-8f2c-c018c6bc5d56",
      "metadata": {
        "id": "1293be60-72b6-4b5c-8f2c-c018c6bc5d56"
      },
      "outputs": [],
      "source": [
        "train_texts, train_labels = read_data('SST-2/train.tsv')"
      ]
    },
    {
      "cell_type": "code",
      "execution_count": null,
      "id": "3c454dde-1fdf-412e-a2b2-7c5b39aafd5a",
      "metadata": {
        "id": "3c454dde-1fdf-412e-a2b2-7c5b39aafd5a"
      },
      "outputs": [],
      "source": [
        "val_texts, val_labels = read_data('SST-2/dev.tsv')"
      ]
    },
    {
      "cell_type": "code",
      "execution_count": null,
      "id": "41d332cc",
      "metadata": {
        "id": "41d332cc"
      },
      "outputs": [],
      "source": [
        "len(train_labels),len(val_labels),len(train_texts),len(val_texts)"
      ]
    },
    {
      "cell_type": "markdown",
      "id": "452cd78c",
      "metadata": {
        "id": "452cd78c"
      },
      "source": [
        "### 5.Check the text and label"
      ]
    },
    {
      "cell_type": "code",
      "execution_count": null,
      "id": "018f6ff0",
      "metadata": {
        "id": "018f6ff0"
      },
      "outputs": [],
      "source": [
        "train_texts[:10]"
      ]
    },
    {
      "cell_type": "code",
      "execution_count": null,
      "id": "bdd3548a",
      "metadata": {
        "id": "bdd3548a"
      },
      "outputs": [],
      "source": [
        "train_labels[:10]"
      ]
    },
    {
      "cell_type": "markdown",
      "id": "425dd89d",
      "metadata": {
        "id": "425dd89d"
      },
      "source": [
        "### 6.Find maximum length"
      ]
    },
    {
      "cell_type": "code",
      "execution_count": null,
      "id": "f198dc58",
      "metadata": {
        "id": "f198dc58"
      },
      "outputs": [],
      "source": [
        "max_len = max([len(item) for item in train_texts])\n",
        "print(max_len)\n",
        "\n",
        "max_len = max([len(item) for item in val_texts])\n",
        "print(max_len)"
      ]
    },
    {
      "cell_type": "markdown",
      "id": "b43887f5",
      "metadata": {
        "id": "b43887f5"
      },
      "source": [
        "### 7. Map the label"
      ]
    },
    {
      "cell_type": "code",
      "execution_count": null,
      "id": "808fa996",
      "metadata": {
        "id": "808fa996"
      },
      "outputs": [],
      "source": [
        "label2id = {\n",
        "    item: idx\n",
        "    for idx, item in enumerate(sorted(set(train_labels + val_labels)))\n",
        "}\n",
        "id2label = {v: k for k, v in label2id.items()}"
      ]
    },
    {
      "cell_type": "code",
      "execution_count": null,
      "id": "bc28d5d2",
      "metadata": {
        "id": "bc28d5d2"
      },
      "outputs": [],
      "source": [
        "label2id,id2label"
      ]
    },
    {
      "cell_type": "markdown",
      "id": "b198e0d7",
      "metadata": {
        "id": "b198e0d7"
      },
      "source": [
        "### 8.Tokenize the data\n"
      ]
    },
    {
      "cell_type": "code",
      "execution_count": null,
      "id": "f8e69e18",
      "metadata": {
        "id": "f8e69e18"
      },
      "outputs": [],
      "source": [
        "train_encodings = tokenizer(train_texts,\n",
        "                            truncation=True,\n",
        "                            padding='max_length',\n",
        "                            max_length=128)\n",
        "val_encodings = tokenizer(val_texts,\n",
        "                          truncation=True,\n",
        "                          padding='max_length',\n",
        "                          max_length=128)"
      ]
    },
    {
      "cell_type": "markdown",
      "id": "bcfff268",
      "metadata": {
        "id": "bcfff268"
      },
      "source": [
        "### 9.Create dataset\n"
      ]
    },
    {
      "cell_type": "code",
      "execution_count": null,
      "id": "943ca92a",
      "metadata": {
        "id": "943ca92a"
      },
      "outputs": [],
      "source": [
        "# PyTorch Dataset\n",
        "class CuDataset(torch.utils.data.Dataset):\n",
        "    def __init__(self, encodings, labels):\n",
        "        self.encodings = encodings\n",
        "        self.labels = labels\n",
        "\n",
        "    def __getitem__(self, idx):\n",
        "        idx = int(idx)\n",
        "        item = {\n",
        "            key: torch.tensor(val[idx])\n",
        "            for key, val in self.encodings.items()\n",
        "        }\n",
        "        item['labels'] = torch.tensor(label2id[self.labels[idx]])\n",
        "        return item\n",
        "\n",
        "    def __len__(self):\n",
        "        return len(self.labels)"
      ]
    },
    {
      "cell_type": "code",
      "execution_count": null,
      "id": "b8b6d40a",
      "metadata": {
        "id": "b8b6d40a"
      },
      "outputs": [],
      "source": [
        "train_dataset = CuDataset(train_encodings, train_labels)\n",
        "val_dataset = CuDataset(val_encodings, val_labels)"
      ]
    },
    {
      "cell_type": "markdown",
      "id": "5425deca",
      "metadata": {
        "id": "5425deca"
      },
      "source": [
        "### 10.Create Dataloader"
      ]
    },
    {
      "cell_type": "code",
      "execution_count": null,
      "id": "bd00e5db",
      "metadata": {
        "id": "bd00e5db"
      },
      "outputs": [],
      "source": [
        "batch_size = 32\n",
        "train_loader = DataLoader(train_dataset, batch_size=batch_size, shuffle=True)\n",
        "eval_loader = DataLoader(val_dataset, batch_size=batch_size, shuffle=False)"
      ]
    },
    {
      "cell_type": "markdown",
      "id": "cec65736",
      "metadata": {
        "id": "cec65736"
      },
      "source": [
        "### 11.Import the model"
      ]
    },
    {
      "cell_type": "code",
      "execution_count": null,
      "id": "e372a32a",
      "metadata": {
        "id": "e372a32a"
      },
      "outputs": [],
      "source": [
        "device = torch.device('cuda:0') if torch.cuda.is_available() else torch.device(\n",
        "    'cpu')  # 使用cpu或者gpu\n",
        "model = AutoModelForSequenceClassification.from_pretrained(\n",
        "    \"thunlp/neuba-bert\", num_labels=len(label2id))\n",
        "model.to(device)\n",
        "model.train()"
      ]
    },
    {
      "cell_type": "markdown",
      "id": "27cb07d6",
      "metadata": {
        "id": "27cb07d6"
      },
      "source": [
        "### 12.Calculate Accuracy，Precision，Recall，F1 score，confusion_matrix，classification_report"
      ]
    },
    {
      "cell_type": "code",
      "execution_count": null,
      "id": "e29853da-0f48-499e-9f1c-cf3f9fa1cfea",
      "metadata": {
        "id": "e29853da-0f48-499e-9f1c-cf3f9fa1cfea"
      },
      "outputs": [],
      "source": [
        "def compute_asr(labels, preds):\n",
        "    asr_1_label = 0\n",
        "    asr_1_pred = 0\n",
        "    asr_0_label = 0\n",
        "    asr_0_pred = 0\n",
        "    for i,j in zip(labels, preds):\n",
        "        if i==0:\n",
        "            asr_1_label += 1\n",
        "        if i==1:\n",
        "            asr_0_label += 1\n",
        "        if i==0 and j==1:\n",
        "            asr_1_pred += 1\n",
        "        if i==1 and j==0:\n",
        "            asr_0_pred += 1\n",
        "    asr_1 = asr_1_pred / asr_1_label\n",
        "    asr_0 = asr_0_pred / asr_0_label\n",
        "    return asr_0, asr_1"
      ]
    },
    {
      "cell_type": "code",
      "execution_count": null,
      "id": "e19db358",
      "metadata": {
        "id": "e19db358"
      },
      "outputs": [],
      "source": [
        "def compute_metrics(labels, preds):\n",
        "    accuracy = accuracy_score(labels, preds)\n",
        "    precision = precision_score(labels, preds,average='macro')\n",
        "    recall = recall_score(labels, preds, average='macro')\n",
        "    f1 = f1_score(labels, preds, average='macro')\n",
        "    asr_0, asr_1 = compute_asr(labels, preds)\n",
        "    logging.info(f'ASR_0: {asr_0}')\n",
        "    logging.info(f'ASR_1: {asr_1}')\n",
        "    logging.info(f'accuracy: {accuracy}')\n",
        "    logging.info(f'precision: {precision}')\n",
        "    logging.info(f'recall: {recall}')\n",
        "    logging.info(f'f1: {f1}\\n')\n",
        "    return accuracy, precision, recall, f1, asr_0, asr_1"
      ]
    },
    {
      "cell_type": "markdown",
      "id": "bb41134c",
      "metadata": {
        "id": "bb41134c"
      },
      "source": [
        "### 13.Evaluate the model"
      ]
    },
    {
      "cell_type": "code",
      "execution_count": null,
      "id": "2c441ac8",
      "metadata": {
        "id": "2c441ac8"
      },
      "outputs": [],
      "source": [
        "@torch.no_grad()\n",
        "def eval_model(model, eval_loader):\n",
        "    model.eval()\n",
        "    labels = []\n",
        "    preds = []\n",
        "    for idx, batch in enumerate(eval_loader):\n",
        "        input_ids = batch['input_ids'].to(device)\n",
        "        attention_mask = batch['attention_mask'].to(device)\n",
        "        labels.extend(batch['labels'].numpy())\n",
        "        outputs = model(input_ids, attention_mask=attention_mask)  # 输出所有概率\n",
        "        preds.extend(torch.argmax(outputs[0], dim=-1).cpu().numpy())  # 拿到标签\n",
        "    accuracy, precision, recall, f1, asr_0, asr_1 = compute_metrics(labels, preds)\n",
        "    model.train()\n",
        "    return accuracy, precision, recall, f1, asr_0, asr_1"
      ]
    },
    {
      "cell_type": "markdown",
      "id": "d09288c1",
      "metadata": {
        "id": "d09288c1"
      },
      "source": [
        "### 14.Fine-tuning"
      ]
    },
    {
      "cell_type": "code",
      "execution_count": null,
      "id": "633f9c97",
      "metadata": {
        "id": "633f9c97"
      },
      "outputs": [],
      "source": [
        "optim = AdamW(model.parameters(), lr=1e-5)  # 声明优化器\n",
        "step = 0\n",
        "best_acc = 0\n",
        "epoch = 3\n",
        "model_path = 'model_poison_bert'\n",
        "writer = SummaryWriter(log_dir=model_path)\n",
        "for epoch in tqdm(range(epoch), desc='Epoch'):\n",
        "    for idx, batch in tqdm(enumerate(train_loader),\n",
        "                           total=len(train_texts) // batch_size,\n",
        "                           desc='Batch'):\n",
        "        optim.zero_grad()\n",
        "        input_ids = batch['input_ids'].to(device)\n",
        "        attention_mask = batch['attention_mask'].to(device)\n",
        "        labels = batch['labels'].to(device)\n",
        "        outputs = model(input_ids=input_ids,\n",
        "                        attention_mask=attention_mask,\n",
        "                        labels=labels)\n",
        "        loss = outputs[0]  # 计算Loss\n",
        "        logging.info(\n",
        "            f'Epoch-{epoch}, Step-{step}, Loss: {loss.cpu().detach().numpy()}')\n",
        "        step += 1\n",
        "        loss.backward()\n",
        "        optim.step()\n",
        "        writer.add_scalar('train_loss', loss.item(), step)\n",
        "    logging.info(\n",
        "        f'Epoch {epoch}, present best acc: {best_acc}, start evaluating.')\n",
        "    accuracy, precision, recall, f1, asr_0, asr_1 = eval_model(model, eval_loader)  # 评估模型\n",
        "    writer.add_scalar('dev_accuracy', accuracy, step)\n",
        "    writer.add_scalar('dev_precision', precision, step)\n",
        "    writer.add_scalar('dev_recall', recall, step)\n",
        "    writer.add_scalar('dev_f1', f1, step)\n",
        "    writer.add_scalar('dev_asr_0', asr_0, step)\n",
        "    writer.add_scalar('dev_asr_1', asr_1, step)\n",
        "    if accuracy > best_acc:\n",
        "        model.save_pretrained(model_path)  # 保存模型\n",
        "        tokenizer.save_pretrained(model_path)\n",
        "        best_acc = accuracy"
      ]
    },
    {
      "cell_type": "code",
      "execution_count": null,
      "id": "b853f4fe",
      "metadata": {
        "id": "b853f4fe"
      },
      "outputs": [],
      "source": [
        ""
      ]
    }
  ],
  "metadata": {
    "kernelspec": {
      "display_name": "Python 3 (ipykernel)",
      "language": "python",
      "name": "python3"
    },
    "language_info": {
      "codemirror_mode": {
        "name": "ipython",
        "version": 3
      },
      "file_extension": ".py",
      "mimetype": "text/x-python",
      "name": "python",
      "nbconvert_exporter": "python",
      "pygments_lexer": "ipython3",
      "version": "3.7.10"
    },
    "vscode": {
      "interpreter": {
        "hash": "31f2aee4e71d21fbe5cf8b01ff0e069b9275f58929596ceb00d14d90e3e16cd6"
      }
    },
    "colab": {
      "name": "poison_bert.ipynb",
      "provenance": [],
      "collapsed_sections": [],
      "toc_visible": true
    }
  },
  "nbformat": 4,
  "nbformat_minor": 5
}